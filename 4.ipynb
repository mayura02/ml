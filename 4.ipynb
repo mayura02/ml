{
 "cells": [
  {
   "cell_type": "code",
   "execution_count": 1,
   "metadata": {},
   "outputs": [],
   "source": [
    "from math import exp\n",
    "from random import random\n",
    "from random import seed"
   ]
  },
  {
   "cell_type": "code",
   "execution_count": 2,
   "metadata": {},
   "outputs": [],
   "source": [
    "def init(ni,nh,no):\n",
    "    nwk=list()\n",
    "    hid=[{'weights':[random() for i in range(ni+1)]}for i in range(nh)]\n",
    "    nwk.append(hid)\n",
    "    out=[{'weights':[random() for i in range(nh+1)]}for i in range(no)]\n",
    "    nwk.append(out)\n",
    "    return nwk"
   ]
  },
  {
   "cell_type": "code",
   "execution_count": 3,
   "metadata": {},
   "outputs": [],
   "source": [
    "def activate(w,inp):\n",
    "    a=w[-1]\n",
    "    for i in range(len(w)-1):\n",
    "        a+=w[i]*inp[i]\n",
    "    return a"
   ]
  },
  {
   "cell_type": "code",
   "execution_count": 4,
   "metadata": {},
   "outputs": [],
   "source": [
    "def transfer(a):\n",
    "    return (1.0 / (1.0 + exp(-a)))"
   ]
  },
  {
   "cell_type": "code",
   "execution_count": 5,
   "metadata": {},
   "outputs": [],
   "source": [
    "def fp(nwk,row):\n",
    "    inp=row\n",
    "    for layer in nwk:\n",
    "        ninp=[]\n",
    "        for neuron in layer:\n",
    "            activation=activate(neuron['weights'],inp)\n",
    "            neuron['output']=transfer(activation)\n",
    "            ninp.append(neuron['output'])\n",
    "        inp=ninp\n",
    "    return inp   "
   ]
  },
  {
   "cell_type": "code",
   "execution_count": 6,
   "metadata": {},
   "outputs": [],
   "source": [
    "def der(out):\n",
    "    return (out*(1-out))"
   ]
  },
  {
   "cell_type": "code",
   "execution_count": 7,
   "metadata": {},
   "outputs": [],
   "source": [
    "def bp(nwk,expt):\n",
    "    for i in reversed(range(len(nwk))):\n",
    "        layer=nwk[i]\n",
    "        errors=[]\n",
    "        if i!=len(nwk)-1:\n",
    "            for j in range(len(layer)):\n",
    "                error=0.0\n",
    "                for neuron in nwk[i+1]:\n",
    "                    error+=(neuron['weights'][j]*neuron['delta'])\n",
    "                errors.append(error)\n",
    "        else:\n",
    "            for j in range(len(layer)):\n",
    "                neuron=layer[j]\n",
    "                errors.append(expt[j]-neuron['output'])\n",
    "        for j in range(len(layer)):\n",
    "            neuron=layer[j]\n",
    "            neuron['delta']=errors[j]*der(neuron['output'])"
   ]
  },
  {
   "cell_type": "code",
   "execution_count": 8,
   "metadata": {},
   "outputs": [],
   "source": [
    "def update(nwk,row,lr):\n",
    "    for i in range(len(nwk)):\n",
    "        inp=row[:-1]\n",
    "        if i!=0:\n",
    "            inp=[neuron['output'] for neuron in nwk[i-1]]\n",
    "        for neuron in nwk[i]:\n",
    "            for j in range(len(inp)):\n",
    "                neuron['weights'][j]+=lr*neuron['delta']*inp[j]\n",
    "            neuron['weights'][-1]+=lr*neuron['delta']           "
   ]
  },
  {
   "cell_type": "code",
   "execution_count": 9,
   "metadata": {},
   "outputs": [],
   "source": [
    "def train_network(network,ds,I_rate,n_epoch,n_outputs):\n",
    "    for epoch in range(n_epoch):\n",
    "        sum_error=0\n",
    "        for row in ds:\n",
    "            outputs=fp(network,row)\n",
    "            expected=[0 for i in range(n_outputs)]\n",
    "            expected[row[-1]]=1\n",
    "            sum_error+=sum([(expected[i]-outputs[i])**2 for i in range(len(expected))])\n",
    "            bp(network,expected)\n",
    "            update(network,row,I_rate)\n",
    "        print('>epoch=%d,Irate=%.3f,error=%.3f'%(epoch,I_rate,sum_error))"
   ]
  },
  {
   "cell_type": "code",
   "execution_count": 10,
   "metadata": {},
   "outputs": [
    {
     "name": "stdout",
     "output_type": "stream",
     "text": [
      "[[{'weights': [0.13436424411240122, 0.8474337369372327, 0.763774618976614]}, {'weights': [0.2550690257394217, 0.49543508709194095, 0.4494910647887381]}], [{'weights': [0.651592972722763, 0.7887233511355132, 0.0938595867742349]}, {'weights': [0.02834747652200631, 0.8357651039198697, 0.43276706790505337]}]]\n",
      ">epoch=0,Irate=0.500,error=6.350\n",
      ">epoch=1,Irate=0.500,error=5.531\n",
      ">epoch=2,Irate=0.500,error=5.221\n",
      ">epoch=3,Irate=0.500,error=4.951\n",
      ">epoch=4,Irate=0.500,error=4.519\n",
      ">epoch=5,Irate=0.500,error=4.173\n",
      ">epoch=6,Irate=0.500,error=3.835\n",
      ">epoch=7,Irate=0.500,error=3.506\n",
      ">epoch=8,Irate=0.500,error=3.192\n",
      ">epoch=9,Irate=0.500,error=2.898\n",
      ">epoch=10,Irate=0.500,error=2.626\n",
      ">epoch=11,Irate=0.500,error=2.377\n",
      ">epoch=12,Irate=0.500,error=2.153\n",
      ">epoch=13,Irate=0.500,error=1.953\n",
      ">epoch=14,Irate=0.500,error=1.774\n",
      ">epoch=15,Irate=0.500,error=1.614\n",
      ">epoch=16,Irate=0.500,error=1.472\n",
      ">epoch=17,Irate=0.500,error=1.346\n",
      ">epoch=18,Irate=0.500,error=1.233\n",
      ">epoch=19,Irate=0.500,error=1.132\n",
      "[{'weights': [-1.4688375094840176, 1.8508873273483264, 1.085817860926142], 'output': 0.029980305797244776, 'delta': -0.005954660457995705}, {'weights': [0.37711098082343564, -0.06259098746137663, 0.2765123712641792], 'output': 0.9456229002260059, 'delta': 0.0026279652684112467}]\n",
      "[{'weights': [2.5153946499448905, -0.33919274809878963, -0.9671565446976785], 'output': 0.23648794210185944, 'delta': -0.04270059280753773}, {'weights': [-2.5584149857417344, 1.0036422086776873, 0.4238308665275687], 'output': 0.779053520188158, 'delta': 0.0380313259808233}]\n"
     ]
    }
   ],
   "source": [
    "seed(1)\n",
    "dataset=[[2.7810836,2.550537003,0],[1.465489372,2.362125076,0],\n",
    "         [3.396561688,4.400293529,0],[1.38807019,1.850220317,0],\n",
    "         [3.06407232,3.005305973,0],[7.627531214,2.759262235,1],\n",
    "         [5.332441214,2.08862675,1],[6.922596716,1.77106367,1],\n",
    "         [8.675418651,-0.242068655,1],[7.673756466,3.508563011,1]]\n",
    "n_inputs=len(dataset[0])-1\n",
    "n_outputs=len(set([row[-1] for row in dataset]))\n",
    "network=init(n_inputs,2,n_outputs)\n",
    "print(network)\n",
    "train_network(network,dataset,0.5,20,n_outputs)\n",
    "for layer in network:\n",
    "    print(layer)"
   ]
  }
 ],
 "metadata": {
  "kernelspec": {
   "display_name": "Python 3",
   "language": "python",
   "name": "python3"
  },
  "language_info": {
   "codemirror_mode": {
    "name": "ipython",
    "version": 3
   },
   "file_extension": ".py",
   "mimetype": "text/x-python",
   "name": "python",
   "nbconvert_exporter": "python",
   "pygments_lexer": "ipython3",
   "version": "3.6.8"
  }
 },
 "nbformat": 4,
 "nbformat_minor": 2
}
