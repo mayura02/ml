{
 "cells": [
  {
   "cell_type": "code",
   "execution_count": 18,
   "metadata": {},
   "outputs": [],
   "source": [
    "from sklearn.datasets import fetch_20newsgroups\n",
    "from sklearn.feature_extraction.text import CountVectorizer, TfidfTransformer\n",
    "from sklearn.naive_bayes import MultinomialNB\n",
    "from sklearn.pipeline import Pipeline\n",
    "from sklearn import metrics\n",
    "import numpy as np"
   ]
  },
  {
   "cell_type": "code",
   "execution_count": 19,
   "metadata": {},
   "outputs": [
    {
     "name": "stdout",
     "output_type": "stream",
     "text": [
      "Category[1]: alt.atheism\n",
      "Category[2]: comp.graphics\n",
      "Category[3]: comp.os.ms-windows.misc\n",
      "Category[4]: comp.sys.ibm.pc.hardware\n",
      "Category[5]: comp.sys.mac.hardware\n",
      "Category[6]: comp.windows.x\n",
      "Category[7]: misc.forsale\n",
      "Category[8]: rec.autos\n",
      "Category[9]: rec.motorcycles\n",
      "Category[10]: rec.sport.baseball\n",
      "Category[11]: rec.sport.hockey\n",
      "Category[12]: sci.crypt\n",
      "Category[13]: sci.electronics\n",
      "Category[14]: sci.med\n",
      "Category[15]: sci.space\n",
      "Category[16]: soc.religion.christian\n",
      "Category[17]: talk.politics.guns\n",
      "Category[18]: talk.politics.mideast\n",
      "Category[19]: talk.politics.misc\n",
      "Category[20]: talk.religion.misc\n"
     ]
    }
   ],
   "source": [
    "twenty_train = fetch_20newsgroups(subset='train',shuffle=True, random_state=42)\n",
    "i=1\n",
    "for cat in twenty_train.target_names:\n",
    "    print(\"Category[%d]:\"%i,cat)\n",
    "    i=i+1"
   ]
  },
  {
   "cell_type": "code",
   "execution_count": 20,
   "metadata": {},
   "outputs": [],
   "source": [
    "categories = ['alt.atheism','soc.religion.christian','comp.graphics','sci.med']\n",
    "twenty_train = fetch_20newsgroups(subset='train', categories=categories, shuffle=True, random_state=42)"
   ]
  },
  {
   "cell_type": "code",
   "execution_count": 21,
   "metadata": {},
   "outputs": [],
   "source": [
    "text_pipeline = Pipeline(\n",
    "    [('vect', CountVectorizer()),\n",
    "    ('transformer', TfidfTransformer()),\n",
    "    ('clf', MultinomialNB())])"
   ]
  },
  {
   "cell_type": "code",
   "execution_count": 22,
   "metadata": {},
   "outputs": [
    {
     "name": "stdout",
     "output_type": "stream",
     "text": [
      "God is love => soc.religion.christian\n",
      "OpenGL on the GPU is fast => comp.graphics\n"
     ]
    }
   ],
   "source": [
    "text_pipeline.fit(twenty_train.data, twenty_train.target)\n",
    "docs_new = ['God is love', 'OpenGL on the GPU is fast']\n",
    "predictions = text_pipeline.predict(docs_new)\n",
    "for data, cat in zip(docs_new, predictions):\n",
    "    print('{0} => {1}'.format(data, twenty_train.target_names[cat]))"
   ]
  },
  {
   "cell_type": "code",
   "execution_count": 23,
   "metadata": {},
   "outputs": [
    {
     "name": "stdout",
     "output_type": "stream",
     "text": [
      "\n",
      "Mean: 0.8348868175765646\n",
      "\n",
      "\n"
     ]
    }
   ],
   "source": [
    "twenty_test = fetch_20newsgroups(subset='test', categories=categories, shuffle=True, random_state=42)\n",
    "docs_test = twenty_test.data\n",
    "predictions = text_pipeline.predict(docs_test)\n",
    "mean = np.mean(predictions == twenty_test.target)\n",
    "print(f'\\nMean: {mean}\\n\\n')"
   ]
  },
  {
   "cell_type": "code",
   "execution_count": 24,
   "metadata": {},
   "outputs": [
    {
     "name": "stdout",
     "output_type": "stream",
     "text": [
      "                        precision    recall  f1-score   support\n",
      "\n",
      "           alt.atheism       0.97      0.60      0.74       319\n",
      "         comp.graphics       0.96      0.89      0.92       389\n",
      "               sci.med       0.97      0.81      0.88       396\n",
      "soc.religion.christian       0.65      0.99      0.78       398\n",
      "\n",
      "              accuracy                           0.83      1502\n",
      "             macro avg       0.89      0.82      0.83      1502\n",
      "          weighted avg       0.88      0.83      0.84      1502\n",
      "\n"
     ]
    }
   ],
   "source": [
    "#print(classification_report(twenty_test.target, predictions))\n",
    "print(metrics.classification_report(twenty_test.target,predictions,target_names=twenty_test.target_names))\n"
   ]
  },
  {
   "cell_type": "code",
   "execution_count": 27,
   "metadata": {},
   "outputs": [
    {
     "name": "stdout",
     "output_type": "stream",
     "text": [
      "\n",
      "Length of training data is 2257\n",
      "\n",
      "The content/data of first file is:\n",
      "\n",
      "From: sd345@city.ac.uk (Michael Collier)\n",
      "Subject: Converting images to HP LaserJet III?\n",
      "Nntp-Posting-Host: hampton\n",
      "Organization: The City University\n",
      "Lines: 14\n",
      "\n",
      "Does anyone know of a good way (standard PC application/PD utility) to\n",
      "convert tif/img/tga files into LaserJet III format.  We would also like to\n",
      "do the same, converting to HPGL (HP plotter) files.\n",
      "\n",
      "Please email any response.\n",
      "\n",
      "Is this the correct group?\n",
      "\n",
      "Thanks in advance.  Michael.\n",
      "-- \n",
      "Michael Collier (Programmer)                 The Computer Unit,\n",
      "Email: M.P.Collier@uk.ac.city                The City University,\n",
      "Tel: 071 477-8000 x3769                      London,\n",
      "Fax: 071 477-8565                            EC1V 0HB.\n",
      "\n"
     ]
    }
   ],
   "source": [
    "print(\"\\nLength of training data is\",len(twenty_train.data))\n",
    "print(\"\\nThe content/data of first file is:\\n\")\n",
    "print(twenty_train.data[0])\n",
    "\n",
    "#print(\"The contents/data of first 10 files is in Training data:\\n\")\n",
    "#for i in range(0,10):\n",
    " #   print(\"\\nFILE NO: %d\\n\"%(i+1))\n",
    "  #  print(twenty_train.data[i])"
   ]
  }
 ],
 "metadata": {
  "kernelspec": {
   "display_name": "Python 3",
   "language": "python",
   "name": "python3"
  },
  "language_info": {
   "codemirror_mode": {
    "name": "ipython",
    "version": 3
   },
   "file_extension": ".py",
   "mimetype": "text/x-python",
   "name": "python",
   "nbconvert_exporter": "python",
   "pygments_lexer": "ipython3",
   "version": "3.6.8"
  }
 },
 "nbformat": 4,
 "nbformat_minor": 2
}
