{
 "cells": [
  {
   "cell_type": "code",
   "execution_count": 3,
   "metadata": {},
   "outputs": [
    {
     "name": "stdout",
     "output_type": "stream",
     "text": [
      "setosa \t\t setosa\t\tCorect yay!!\n",
      "versicolor \t\t versicolor\t\tCorect yay!!\n",
      "versicolor \t\t versicolor\t\tCorect yay!!\n",
      "virginica \t\t virginica\t\tCorect yay!!\n",
      "versicolor \t\t versicolor\t\tCorect yay!!\n",
      "versicolor \t\t versicolor\t\tCorect yay!!\n",
      "virginica \t\t virginica\t\tCorect yay!!\n",
      "setosa \t\t setosa\t\tCorect yay!!\n",
      "virginica \t\t virginica\t\tCorect yay!!\n",
      "setosa \t\t setosa\t\tCorect yay!!\n",
      "virginica \t\t virginica\t\tCorect yay!!\n",
      "versicolor \t\t versicolor\t\tCorect yay!!\n",
      "versicolor \t\t virginica\t\tWrong!!!\n",
      "setosa \t\t setosa\t\tCorect yay!!\n",
      "setosa \t\t setosa\t\tCorect yay!!\n",
      "virginica \t\t virginica\t\tCorect yay!!\n",
      "setosa \t\t setosa\t\tCorect yay!!\n",
      "versicolor \t\t versicolor\t\tCorect yay!!\n",
      "virginica \t\t virginica\t\tCorect yay!!\n",
      "versicolor \t\t versicolor\t\tCorect yay!!\n",
      "versicolor \t\t versicolor\t\tCorect yay!!\n",
      "virginica \t\t virginica\t\tCorect yay!!\n",
      "virginica \t\t virginica\t\tCorect yay!!\n",
      "setosa \t\t setosa\t\tCorect yay!!\n",
      "virginica \t\t versicolor\t\tWrong!!!\n",
      "versicolor \t\t versicolor\t\tCorect yay!!\n",
      "versicolor \t\t versicolor\t\tCorect yay!!\n",
      "setosa \t\t setosa\t\tCorect yay!!\n",
      "virginica \t\t virginica\t\tCorect yay!!\n",
      "versicolor \t\t virginica\t\tWrong!!!\n",
      "versicolor \t\t versicolor\t\tCorect yay!!\n",
      "versicolor \t\t versicolor\t\tCorect yay!!\n",
      "setosa \t\t setosa\t\tCorect yay!!\n",
      "setosa \t\t setosa\t\tCorect yay!!\n",
      "setosa \t\t setosa\t\tCorect yay!!\n",
      "versicolor \t\t virginica\t\tWrong!!!\n",
      "versicolor \t\t versicolor\t\tCorect yay!!\n",
      "setosa \t\t setosa\t\tCorect yay!!\n",
      "\n",
      "\n",
      "KNN score:\n",
      "               precision    recall  f1-score   support\n",
      "\n",
      "           0       1.00      1.00      1.00        12\n",
      "           1       0.81      0.93      0.87        14\n",
      "           2       0.90      0.75      0.82        12\n",
      "\n",
      "    accuracy                           0.89        38\n",
      "   macro avg       0.90      0.89      0.89        38\n",
      "weighted avg       0.90      0.89      0.89        38\n",
      "\n"
     ]
    }
   ],
   "source": [
    "from sklearn.datasets import load_iris\n",
    "from sklearn.model_selection import train_test_split\n",
    "from sklearn.neighbors import KNeighborsClassifier\n",
    "from sklearn.metrics import classification_report\n",
    "\n",
    "iris = load_iris()\n",
    "\n",
    "X_train, X_test, y_train, y_test = train_test_split(\n",
    "    iris['data'], iris['target'], random_state=20\n",
    ")\n",
    "\n",
    "knn = KNeighborsClassifier(n_neighbors=2)\n",
    "knn.fit(X_train, y_train)\n",
    "pred = knn.predict(X_test)\n",
    "\n",
    "\n",
    "for y_test_val, pred_val in zip(y_test, pred):\n",
    "    if y_test_val != pred_val:\n",
    "        print(iris.target_names[pred_val],'\\t\\t',iris.target_names[y_test_val]+\"\\t\\tWrong!!!\")\n",
    "    else:\n",
    "        print(iris.target_names[pred_val],'\\t\\t',iris.target_names[y_test_val]+\"\\t\\tCorect yay!!\")\n",
    "print('\\n\\nKNN score:\\n', classification_report(y_test, pred))"
   ]
  },
  {
   "cell_type": "code",
   "execution_count": 5,
   "metadata": {},
   "outputs": [
    {
     "data": {
      "image/png": "[encoded data removed]",
      "text/plain": [
       "<Figure size 432x288 with 1 Axes>"
      ]
     },
     "metadata": {
      "needs_background": "light"
     },
     "output_type": "display_data"
    }
   ],
   "source": [
    "import matplotlib.pyplot as plt\n",
    "plt.scatter(X_test[pred == 0, 0], X_test[pred == 0, 1], c='red', label='Iris-setosa')\n",
    "plt.scatter(X_test[pred == 1, 0], X_test[pred == 1, 1], c='blue', label='Iris-versicolor')\n",
    "plt.scatter(X_test[pred == 2, 0], X_test[pred == 2, 1], c='green', label='Iris-virginica')\n",
    "plt.legend()\n",
    "plt.show()\n"
   ]
  }
 ],
 "metadata": {
  "kernelspec": {
   "display_name": "Python 3",
   "language": "python",
   "name": "python3"
  },
  "language_info": {
   "codemirror_mode": {
    "name": "ipython",
    "version": 3
   },
   "file_extension": ".py",
   "mimetype": "text/x-python",
   "name": "python",
   "nbconvert_exporter": "python",
   "pygments_lexer": "ipython3",
   "version": "3.6.8"
  }
 },
 "nbformat": 4,
 "nbformat_minor": 2
}
